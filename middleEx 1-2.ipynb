{
 "cells": [
  {
   "cell_type": "code",
   "execution_count": 1,
   "id": "186e7ae6-9d22-4e20-abda-220e4cf343f5",
   "metadata": {},
   "outputs": [],
   "source": [
    "import numpy as np"
   ]
  },
  {
   "cell_type": "markdown",
   "id": "99ad2e32-44f7-4bf8-99e3-09303596749d",
   "metadata": {},
   "source": [
    "## HW 1-2 Gradebook"
   ]
  },
  {
   "cell_type": "markdown",
   "id": "050097cd-58d5-4560-8bac-8110a17f83e6",
   "metadata": {},
   "source": [
    "### Create Some List:"
   ]
  },
  {
   "cell_type": "code",
   "execution_count": 4,
   "id": "03932fb5-d610-465b-8d06-4c0d0f7820f0",
   "metadata": {},
   "outputs": [],
   "source": [
    "# 1-2-1\n",
    "subjects = [\"physics\", \"calculus\", \"poetry\",\"history\"]"
   ]
  },
  {
   "cell_type": "code",
   "execution_count": 5,
   "id": "27b3e89b-bb66-4669-b030-7def3c054509",
   "metadata": {},
   "outputs": [],
   "source": [
    "# 1-2-2\n",
    "grades = [98, 97, 85, 88]"
   ]
  },
  {
   "cell_type": "code",
   "execution_count": 6,
   "id": "6752074b-dccd-4abd-88f6-37488394f696",
   "metadata": {},
   "outputs": [],
   "source": [
    "# 1-2-3\n",
    "gradebook = [[\"\",0],[\"\",0],[\"\",0],[\"\",0]]\n",
    "for i in range(0,4):\n",
    "    for j in range(0,2):\n",
    "        if j == 0 :\n",
    "            gradebook[i][j] = subjects[i]\n",
    "        else :\n",
    "            gradebook[i][j] = grades[i]"
   ]
  },
  {
   "cell_type": "code",
   "execution_count": 7,
   "id": "dedc70d1-6ec0-4604-814d-cb6f62e6c299",
   "metadata": {},
   "outputs": [
    {
     "name": "stdout",
     "output_type": "stream",
     "text": [
      "[['physics', 98], ['calculus', 97], ['poetry', 85], ['history', 88]]\n"
     ]
    }
   ],
   "source": [
    "print(gradebook)"
   ]
  },
  {
   "cell_type": "code",
   "execution_count": 8,
   "id": "947f0983-6005-415f-a0f5-9947b9323281",
   "metadata": {},
   "outputs": [
    {
     "data": {
      "text/plain": [
       "[['physics', 98],\n",
       " ['calculus', 97],\n",
       " ['poetry', 85],\n",
       " ['history', 88],\n",
       " ['computer science', 100]]"
      ]
     },
     "execution_count": 8,
     "metadata": {},
     "output_type": "execute_result"
    }
   ],
   "source": [
    "# 1-2-5\n",
    "gradebook.append([\"computer science\"])\n",
    "gradebook[4].append(100)\n",
    "gradebook"
   ]
  },
  {
   "cell_type": "code",
   "execution_count": 9,
   "id": "7dd17fa5-3d89-43a8-a7c0-fc453e212993",
   "metadata": {},
   "outputs": [
    {
     "data": {
      "text/plain": [
       "[['physics', 98],\n",
       " ['calculus', 97],\n",
       " ['poetry', 85],\n",
       " ['history', 88],\n",
       " ['computer science', 100],\n",
       " ['visual arts', 93]]"
      ]
     },
     "execution_count": 9,
     "metadata": {},
     "output_type": "execute_result"
    }
   ],
   "source": [
    "# 1-2-6\n",
    "gradebook.append([\"visual arts\",93])\n",
    "gradebook"
   ]
  },
  {
   "cell_type": "markdown",
   "id": "6a97da2b-fed3-4ab5-82f3-5e3782e5de7c",
   "metadata": {},
   "source": [
    "### Modify The Gradebook:"
   ]
  },
  {
   "cell_type": "code",
   "execution_count": 11,
   "id": "56188ded-7edd-4cca-a885-9b35b8854e37",
   "metadata": {},
   "outputs": [],
   "source": [
    "# 1-2-7\n",
    "gradebook[5][1] += 5"
   ]
  },
  {
   "cell_type": "code",
   "execution_count": 12,
   "id": "4c847d7a-89a5-4f3b-be41-3042dd4638e5",
   "metadata": {},
   "outputs": [],
   "source": [
    "# 1-2-8\n",
    "gradebook[2].remove(85)"
   ]
  },
  {
   "cell_type": "code",
   "execution_count": 13,
   "id": "4e0c15fe-8dbe-469b-b450-00e04ba127d0",
   "metadata": {},
   "outputs": [
    {
     "data": {
      "text/plain": [
       "[['physics', 98],\n",
       " ['calculus', 97],\n",
       " ['poetry', 'pass'],\n",
       " ['history', 88],\n",
       " ['computer science', 100],\n",
       " ['visual arts', 98]]"
      ]
     },
     "execution_count": 13,
     "metadata": {},
     "output_type": "execute_result"
    }
   ],
   "source": [
    "# 1-2-9\n",
    "gradebook[2].append(\"pass\")\n",
    "gradebook"
   ]
  },
  {
   "cell_type": "markdown",
   "id": "d3fa4fc2-74d7-487c-88d4-577ccaf41971",
   "metadata": {},
   "source": [
    "### One Big Gradebook!"
   ]
  },
  {
   "cell_type": "code",
   "execution_count": 15,
   "id": "a7036051-b3d7-4976-9172-c4e2229d0716",
   "metadata": {},
   "outputs": [
    {
     "name": "stdout",
     "output_type": "stream",
     "text": [
      "[['politics', 80], ['latin', 96], ['dance', 97], ['architecture', 65], ['physics', 98], ['calculus', 97], ['poetry', 'pass'], ['history', 88], ['computer science', 100], ['visual arts', 98]]\n"
     ]
    }
   ],
   "source": [
    "# 1-2-10\n",
    "last_semester_gradebook = [[\"politics\", 80], [\"latin\", 96], [\"dance\", 97], [\"architecture\", 65]]\n",
    "full_gradebook = last_semester_gradebook + gradebook\n",
    "print(full_gradebook)"
   ]
  }
 ],
 "metadata": {
  "kernelspec": {
   "display_name": "Python 3 (ipykernel)",
   "language": "python",
   "name": "python3"
  },
  "language_info": {
   "codemirror_mode": {
    "name": "ipython",
    "version": 3
   },
   "file_extension": ".py",
   "mimetype": "text/x-python",
   "name": "python",
   "nbconvert_exporter": "python",
   "pygments_lexer": "ipython3",
   "version": "3.11.5"
  }
 },
 "nbformat": 4,
 "nbformat_minor": 5
}
