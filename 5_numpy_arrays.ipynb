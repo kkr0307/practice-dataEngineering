{
 "cells": [
  {
   "cell_type": "markdown",
   "metadata": {},
   "source": [
    "## 5. <strong>NumPy 배열</strong>"
   ]
  },
  {
   "cell_type": "code",
   "execution_count": 128,
   "metadata": {},
   "outputs": [
    {
     "name": "stdout",
     "output_type": "stream",
     "text": [
      "Requirement already satisfied: numpy in d:\\anakonda\\lib\\site-packages (1.24.3)\n"
     ]
    }
   ],
   "source": [
    "# Python 패키지 설치 명령어\n",
    "!pip install numpy"
   ]
  },
  {
   "cell_type": "code",
   "execution_count": 129,
   "metadata": {},
   "outputs": [],
   "source": [
    "# NumPy 불러오기\n",
    "import numpy as np"
   ]
  },
  {
   "cell_type": "markdown",
   "metadata": {},
   "source": [
    "### <strong> 5.1 NumPy 배열 생성"
   ]
  },
  {
   "cell_type": "code",
   "execution_count": 131,
   "metadata": {},
   "outputs": [
    {
     "data": {
      "text/plain": [
       "array([1, 2, 3, 4, 5, 6])"
      ]
     },
     "execution_count": 131,
     "metadata": {},
     "output_type": "execute_result"
    }
   ],
   "source": [
    "# [+] 리스트 객체로부터 ndarray 객체 생성\n",
    "my_lst = [1,2,3,4,5,6]\n",
    "my_arr = np.array(my_lst)\n",
    "\n",
    "my_arr"
   ]
  },
  {
   "cell_type": "code",
   "execution_count": 132,
   "metadata": {},
   "outputs": [
    {
     "data": {
      "text/plain": [
       "numpy.ndarray"
      ]
     },
     "execution_count": 132,
     "metadata": {},
     "output_type": "execute_result"
    }
   ],
   "source": [
    "type(my_arr)"
   ]
  },
  {
   "cell_type": "code",
   "execution_count": 133,
   "metadata": {},
   "outputs": [
    {
     "data": {
      "text/plain": [
       "array([1, 2, 3, 4, 5, 6])"
      ]
     },
     "execution_count": 133,
     "metadata": {},
     "output_type": "execute_result"
    }
   ],
   "source": [
    "# [+] 리스트/NumPy 배열 동시에 생성\n",
    "np.array([1,2,3,4,5,6])"
   ]
  },
  {
   "cell_type": "markdown",
   "metadata": {},
   "source": [
    "#### 리스트 컴프리헨션 vs NumPy 배열"
   ]
  },
  {
   "cell_type": "code",
   "execution_count": 135,
   "metadata": {},
   "outputs": [
    {
     "data": {
      "text/plain": [
       "[15, 35, 30, 5, 20, 51]"
      ]
     },
     "execution_count": 135,
     "metadata": {},
     "output_type": "execute_result"
    }
   ],
   "source": [
    "prices = [20, 40, 35, 10, 25, 56]\n",
    "\n",
    "# [+] 리스트 컴프리헨션을 이용하여 5달러씩 가격을 일괄적으로 할인하기\n",
    "new_prices = [price-5 for price in prices] #(연산이나 뭐 규칙같은거) for (꺼낼 값의 이름) in (컬렉션 개체) 라고 이해하는게 편함.\n",
    "\n",
    "new_prices"
   ]
  },
  {
   "cell_type": "code",
   "execution_count": 136,
   "metadata": {},
   "outputs": [
    {
     "data": {
      "text/plain": [
       "array([15, 35, 30,  5, 20, 51])"
      ]
     },
     "execution_count": 136,
     "metadata": {},
     "output_type": "execute_result"
    }
   ],
   "source": [
    "# [+] NumPy 배열의 연산을 통한 5달러씩 가격을 일괄적으로 할인하기\n",
    "prices_arr = np.array(prices)   # 배열 생성\n",
    "prices_arr -= 5 # 가격 수정  =앞에 연산자 있는거는 C에서도 봄. 그거랑 같은 표현 ㅇㅇ\n",
    "\n",
    "prices_arr "
   ]
  },
  {
   "cell_type": "markdown",
   "metadata": {},
   "source": [
    "#### 예제: 시험 점수 처리"
   ]
  },
  {
   "cell_type": "code",
   "execution_count": 138,
   "metadata": {},
   "outputs": [],
   "source": [
    "# 세 번의 시험에 대한 점수를 NumPy 배열로 선언\n",
    "test_1 = np.array([92, 94, 88, 91, 87])\n",
    "test_2 = np.array([79, 100, 86, 93, 91])\n",
    "test_3 = np.array([87, 85, 72, 90, 92])"
   ]
  },
  {
   "cell_type": "code",
   "execution_count": 139,
   "metadata": {},
   "outputs": [
    {
     "data": {
      "text/plain": [
       "array([89, 87, 74, 92, 94])"
      ]
     },
     "execution_count": 139,
     "metadata": {},
     "output_type": "execute_result"
    }
   ],
   "source": [
    "# [+] 세 번째 시험에 2점씩 더하기\n",
    "test_3_fixed = test_3 + 2 # 32번 줄의 선언 파트를 실행시키지 않으면 이 코드는 실행 되지 않음.\n",
    "\n",
    "test_3_fixed"
   ]
  },
  {
   "cell_type": "code",
   "execution_count": 140,
   "metadata": {},
   "outputs": [
    {
     "data": {
      "text/plain": [
       "array([260, 281, 248, 276, 272])"
      ]
     },
     "execution_count": 140,
     "metadata": {},
     "output_type": "execute_result"
    }
   ],
   "source": [
    "# [+] 학생 별 전체 시험 점수 총합 계산 -> total_grade\n",
    "total_grade = test_1 + test_2 + test_3_fixed\n",
    "\n",
    "total_grade"
   ]
  },
  {
   "cell_type": "code",
   "execution_count": 141,
   "metadata": {},
   "outputs": [
    {
     "data": {
      "text/plain": [
       "array([86.66666667, 93.66666667, 82.66666667, 92.        , 90.66666667])"
      ]
     },
     "execution_count": 141,
     "metadata": {},
     "output_type": "execute_result"
    }
   ],
   "source": [
    "# [+] 학생 별 평균 시험 점수 계산 -> final_grade\n",
    "final_grade = total_grade / 3 \n",
    "\n",
    "final_grade"
   ]
  },
  {
   "cell_type": "code",
   "execution_count": 142,
   "metadata": {},
   "outputs": [
    {
     "data": {
      "text/plain": [
       "93"
      ]
     },
     "execution_count": 142,
     "metadata": {},
     "output_type": "execute_result"
    }
   ],
   "source": [
    "# [+] 인덱싱: Jeremy의 두 번째 시험 점수\n",
    "jeremy_test_2 = test_2[3]\n",
    "\n",
    "jeremy_test_2"
   ]
  },
  {
   "cell_type": "code",
   "execution_count": 143,
   "metadata": {},
   "outputs": [
    {
     "data": {
      "text/plain": [
       "array([94, 88])"
      ]
     },
     "execution_count": 143,
     "metadata": {},
     "output_type": "execute_result"
    }
   ],
   "source": [
    "# [+] Manual과 Adwoa의 첫 번째 시험 점수\n",
    "manual_adwoa_test_1 = test_1[1:3] #리스트 슬라이싱이랑 동일함.\n",
    "\n",
    "manual_adwoa_test_1"
   ]
  },
  {
   "cell_type": "code",
   "execution_count": 144,
   "metadata": {},
   "outputs": [
    {
     "data": {
      "text/plain": [
       "array([[ 92,  94,  88,  91,  87],\n",
       "       [ 79, 100,  86,  93,  91],\n",
       "       [ 89,  87,  74,  92,  94]])"
      ]
     },
     "execution_count": 144,
     "metadata": {},
     "output_type": "execute_result"
    }
   ],
   "source": [
    "# [+] 전체 학생들의 점수를 2차원 배열에 저장 -> student_scores\n",
    "student_scores = np.array([test_1,test_2,test_3_fixed])\n",
    "\n",
    "student_scores"
   ]
  },
  {
   "cell_type": "code",
   "execution_count": 145,
   "metadata": {},
   "outputs": [
    {
     "data": {
      "text/plain": [
       "89"
      ]
     },
     "execution_count": 145,
     "metadata": {},
     "output_type": "execute_result"
    }
   ],
   "source": [
    "# [+] 2차원 배열 인덱싱: Tanya의 세 번째 시험 점수\n",
    "student_scores[2,0] # c느낌으로 [2][0]으로 해도 됨. 행이 먼저 나옴. [행,열]"
   ]
  },
  {
   "cell_type": "code",
   "execution_count": 161,
   "metadata": {},
   "outputs": [
    {
     "data": {
      "text/plain": [
       "array([87, 91, 94])"
      ]
     },
     "execution_count": 161,
     "metadata": {},
     "output_type": "execute_result"
    }
   ],
   "source": [
    "# [+] 2차원 배열 슬라이싱: Cody의 전체 시험 점수\n",
    "student_scores[:,4] #슬라이싱이 약하다..."
   ]
  },
  {
   "cell_type": "markdown",
   "metadata": {},
   "source": [
    "#### 배열 원소 단위의 논리 연산"
   ]
  },
  {
   "cell_type": "code",
   "execution_count": 164,
   "metadata": {},
   "outputs": [
    {
     "data": {
      "text/plain": [
       "array([False,  True, False, False,  True,  True, False,  True])"
      ]
     },
     "execution_count": 164,
     "metadata": {},
     "output_type": "execute_result"
    }
   ],
   "source": [
    "a = np.array([1, 20, 4, 6, 28, 88, 7, 12])\n",
    "\n",
    "# [+] 10 이상 여부를 마스킹\n",
    "mask = a >= 10 # 논리연산이므로 boolean으로 생성\n",
    "\n",
    "mask # true 인 부분집합을 얻을 때 자주 쓰는 방식임."
   ]
  },
  {
   "cell_type": "code",
   "execution_count": 166,
   "metadata": {},
   "outputs": [
    {
     "data": {
      "text/plain": [
       "array([20, 28, 88, 12])"
      ]
     },
     "execution_count": 166,
     "metadata": {},
     "output_type": "execute_result"
    }
   ],
   "source": [
    "# [+] 논리 연산을 이용하여 부분집합 구하기\n",
    "selected = a[a >= 10] # 배열의 원소를 저장함.\n",
    "\n",
    "selected"
   ]
  },
  {
   "cell_type": "code",
   "execution_count": 168,
   "metadata": {},
   "outputs": [
    {
     "data": {
      "text/plain": [
       "array([ 1, 20,  4,  6, 28, 88,  7, 12])"
      ]
     },
     "execution_count": 168,
     "metadata": {},
     "output_type": "execute_result"
    }
   ],
   "source": [
    "# [+] 논리식 결합: 논리합\n",
    "selected = a[(a > 10) | (a < 8)]\n",
    "\n",
    "selected"
   ]
  },
  {
   "cell_type": "code",
   "execution_count": 170,
   "metadata": {},
   "outputs": [
    {
     "data": {
      "text/plain": [
       "array([20, 28, 12])"
      ]
     },
     "execution_count": 170,
     "metadata": {},
     "output_type": "execute_result"
    }
   ],
   "source": [
    "# [+] 논리식 결합: 논리곱\n",
    "selected = a[(a > 10) & (a < 30)]\n",
    "\n",
    "selected"
   ]
  },
  {
   "cell_type": "code",
   "execution_count": 172,
   "metadata": {},
   "outputs": [
    {
     "data": {
      "text/plain": [
       "array([0, 1, 2, 3, 4, 5, 6, 7, 8, 9])"
      ]
     },
     "execution_count": 172,
     "metadata": {},
     "output_type": "execute_result"
    }
   ],
   "source": [
    "# [+] 정수 배열 생성\n",
    "np.arange(10) # 10 직전까지 생성. stop index 사용"
   ]
  },
  {
   "cell_type": "code",
   "execution_count": 174,
   "metadata": {},
   "outputs": [
    {
     "data": {
      "text/plain": [
       "array([10, 11, 12, 13, 14, 15, 16, 17, 18, 19])"
      ]
     },
     "execution_count": 174,
     "metadata": {},
     "output_type": "execute_result"
    }
   ],
   "source": [
    "np.arange(10, 20) # 시작값, 끝값. 시작값 ~ 끝값 - 1 까지 출력. 슬라이싱이랑 비슷. start, stop index 사용"
   ]
  },
  {
   "cell_type": "code",
   "execution_count": 176,
   "metadata": {},
   "outputs": [
    {
     "data": {
      "text/plain": [
       "array([10, 13, 16, 19])"
      ]
     },
     "execution_count": 176,
     "metadata": {},
     "output_type": "execute_result"
    }
   ],
   "source": [
    "np.arange(10,20,3) # start,stop,distance index"
   ]
  },
  {
   "cell_type": "code",
   "execution_count": 178,
   "metadata": {},
   "outputs": [
    {
     "data": {
      "text/plain": [
       "array([[3, 6, 6, 0, 9],\n",
       "       [8, 4, 7, 0, 0],\n",
       "       [7, 1, 5, 7, 0]])"
      ]
     },
     "execution_count": 178,
     "metadata": {},
     "output_type": "execute_result"
    }
   ],
   "source": [
    "# [+] 난수 배열 생성\n",
    "np.random.seed(5) # seed 선언을 해두면 동일한 모양의 난수 배열이 만들어 짐. 이 시드를 써서 랜덤 값을 뽑으면 항상 동일한 값이 나옴! 마크 맵 시드를 생각하면 됨. 다른사람이 같은 시드 쓰면 똑같은거 나옴.\n",
    "arr = np.random.randint(10, size =(3,5))\n",
    "# index ( stop , size() ) 여기서 10을 stop 값으로 썼는데 0 ~ 9 중에 랜덤으로 뽑는다는 소리. size (3,5)는 3x5 크기의 배열을 생성한다는 뜻. 이차원 배열임. 키워드 문자 문법 참고.\n",
    "\n",
    "arr"
   ]
  },
  {
   "cell_type": "markdown",
   "metadata": {},
   "source": [
    "### <strong>5.2 배열 조작 연산</strong>"
   ]
  },
  {
   "cell_type": "code",
   "execution_count": 181,
   "metadata": {},
   "outputs": [
    {
     "name": "stdout",
     "output_type": "stream",
     "text": [
      "2\n",
      "(3, 5)\n",
      "15\n",
      "int32\n",
      "4\n",
      "60\n"
     ]
    }
   ],
   "source": [
    "# [+] 배열 속성\n",
    "print(arr.ndim)     # 차원 수\n",
    "print(arr.shape)    # 형상 <- 실무에서 많이 쓴다고 함.형태가 3 x 5 배열이라 이렇게 나옴.\n",
    "print(arr.size)     # 크기\n",
    "print(arr.dtype)    # 데이터 타입\n",
    "print(arr.itemsize) # 원소별 메모리 크기(bytes) -> 정수이기 때문에 4bytes로 나옴.\n",
    "print(arr.nbytes)   # 전체 메모리 크기 -> 3 x 5 크기, 각각 정수로 4byte이기 때문에 15 x 4 = 60."
   ]
  },
  {
   "cell_type": "code",
   "execution_count": 183,
   "metadata": {},
   "outputs": [
    {
     "name": "stdout",
     "output_type": "stream",
     "text": [
      "[0 1 2 3 4 5 6 7 8 9]\n",
      "[1 2]\n",
      "[0 1 2]\n",
      "[5 6 7 8 9]\n",
      "[0 3 6 9]\n",
      "[3 5 7]\n"
     ]
    }
   ],
   "source": [
    "# [+] 배열 슬라이싱\n",
    "arr = np.arange(10)\n",
    "print(arr)\n",
    "\n",
    "print(arr[1:3]) # 슬라이싱(start:stop) <- 1,2 인덱스에 해당하는 값\n",
    "print(arr[:3]) # 시작 인덱스 생략(:stop) <- 0,1,2 인덱스\n",
    "print(arr[5:]) # 종료 인덱스 생략(start:) <- 5,6,7,8,9 인덱스\n",
    "print(arr[::3]) # 간격(::interval) <- 0,3,6,9 인덱스 * 0빼먹음\n",
    "print(arr[3:8:2]) # 슬라이싱(start:stop:interval) <-3, 5, 7 인덱스"
   ]
  },
  {
   "cell_type": "code",
   "execution_count": 185,
   "metadata": {},
   "outputs": [
    {
     "data": {
      "text/plain": [
       "array([[5, 0, 3, 3, 7, 9, 3, 5],\n",
       "       [2, 4, 7, 6, 8, 8, 1, 6],\n",
       "       [7, 7, 8, 1, 5, 9, 8, 9],\n",
       "       [4, 3, 0, 3, 5, 0, 2, 3],\n",
       "       [8, 1, 3, 3, 3, 7, 0, 1],\n",
       "       [9, 9, 0, 4, 7, 3, 2, 7]])"
      ]
     },
     "execution_count": 185,
     "metadata": {},
     "output_type": "execute_result"
    }
   ],
   "source": [
    "# [+] 난수 배열 생성\n",
    "np.random.seed(0)  # [+] 시드 설정\n",
    "arr = np.random.randint(10, size=(6,8)) # [+] 난수 배열 생성\n",
    "\n",
    "arr"
   ]
  },
  {
   "cell_type": "code",
   "execution_count": 187,
   "metadata": {},
   "outputs": [
    {
     "data": {
      "text/plain": [
       "array([[8, 8, 1, 6],\n",
       "       [5, 9, 8, 9],\n",
       "       [5, 0, 2, 3]])"
      ]
     },
     "execution_count": 187,
     "metadata": {},
     "output_type": "execute_result"
    }
   ],
   "source": [
    "# [+] 다차원 배열 슬라이싱\n",
    "arr[1:4,4:] #위에 arr 변수 이름으로 다른게 선언되면 뽑고자 하는 속성들이 안나올 수 있음."
   ]
  },
  {
   "cell_type": "code",
   "execution_count": 197,
   "metadata": {},
   "outputs": [
    {
     "name": "stdout",
     "output_type": "stream",
     "text": [
      "[[5 0]\n",
      " [2 4]]\n",
      "[[99  0]\n",
      " [ 2  4]]\n",
      "[[99  0  3  3  7  9  3  5]\n",
      " [ 2  4  7  6  8  8  1  6]\n",
      " [ 7  7  8  1  5  9  8  9]\n",
      " [ 4  3  0  3  5  0  2  3]\n",
      " [ 8  1  3  3  3  7  0  1]\n",
      " [ 9  9  0  4  7  3  2  7]]\n"
     ]
    }
   ],
   "source": [
    "# 배열 슬라이스 = 뷰(view) -> 리스트는 슬라이싱한거 다른거에 저장하고 값을 바꾸면 원본이 안바뀌지만 배열은 바뀜. 리스트는 복사본을 하나 만드는거고 배열은 복사하지않고 참조를 해서 그 값도 바뀜.\n",
    "arr_sub = arr[:2, :2] # -> arr_sub에 arr 슬라이싱한걸 저장.\n",
    "print(arr_sub)        # -> arr_sub 출력\n",
    "\n",
    "arr_sub[0, 0] = 99 # -> arr_sub \n",
    "print(arr_sub)\n",
    "\n",
    "print(arr)"
   ]
  },
  {
   "cell_type": "code",
   "execution_count": 199,
   "metadata": {},
   "outputs": [
    {
     "name": "stdout",
     "output_type": "stream",
     "text": [
      "[[55  0]\n",
      " [ 2  4]]\n",
      "[[99  0  3  3  7  9  3  5]\n",
      " [ 2  4  7  6  8  8  1  6]\n",
      " [ 7  7  8  1  5  9  8  9]\n",
      " [ 4  3  0  3  5  0  2  3]\n",
      " [ 8  1  3  3  3  7  0  1]\n",
      " [ 9  9  0  4  7  3  2  7]]\n"
     ]
    }
   ],
   "source": [
    "# 배열 복사본 생성\n",
    "arr_sub = arr[:2, :2].copy()  # view로 만들어지는 배열을 리스트 복사본처럼 새로 복사본 만드는 메서드. 이러면 원본 값이 안바뀜.\n",
    "\n",
    "arr_sub[0, 0] = 55\n",
    "print(arr_sub)\n",
    "\n",
    "print(arr)"
   ]
  },
  {
   "cell_type": "code",
   "execution_count": 211,
   "metadata": {},
   "outputs": [
    {
     "name": "stdout",
     "output_type": "stream",
     "text": [
      "[0 1 2 3 4 5 6 7 8 9]\n",
      "(10,)\n",
      "[[0 1 2 3 4]\n",
      " [5 6 7 8 9]]\n",
      "(2, 5)\n"
     ]
    }
   ],
   "source": [
    "# [+] 배열 재구조화: reshape()\n",
    "x = np.arange(10) # 0~9로 이루어진 배열 생성 (10,)\n",
    "print(x)\n",
    "print(x.shape)\n",
    "\n",
    "x = x.reshape(2,5) # 배열을 2X5 형상으로 재구조화\n",
    "print(x)\n",
    "print(x.shape)"
   ]
  },
  {
   "cell_type": "code",
   "execution_count": 226,
   "metadata": {},
   "outputs": [
    {
     "name": "stdout",
     "output_type": "stream",
     "text": [
      "[1 2 3]\n",
      "[[1 2 3]]\n",
      "(1, 3)\n",
      "[[1]\n",
      " [2]\n",
      " [3]]\n",
      "(3, 1)\n"
     ]
    }
   ],
   "source": [
    "# [+] 배열 재구조화: 차원 추가(np.newaxis)\n",
    "arr = np.arange(1,4)\n",
    "print(arr)\n",
    "\n",
    "arr_new = arr[np.newaxis, :]\n",
    "print(arr_new)\n",
    "print(arr_new.shape)\n",
    "\n",
    "arr_new = arr[ :,np.newaxis]\n",
    "print(arr_new)\n",
    "print(arr_new.shape)\n"
   ]
  },
  {
   "cell_type": "code",
   "execution_count": 228,
   "metadata": {},
   "outputs": [
    {
     "name": "stdout",
     "output_type": "stream",
     "text": [
      "[1 2 3]\n",
      "[[2 3]]\n",
      "(1, 2)\n",
      "[[2]\n",
      " [3]]\n",
      "(2, 1)\n"
     ]
    }
   ],
   "source": [
    "# 배열 재구조화 개인연습...\n",
    "arr = np.arange(1,4)\n",
    "print(arr)\n",
    "\n",
    "arr_new = arr[np.newaxis, 1:]\n",
    "print(arr_new)\n",
    "print(arr_new.shape)\n",
    "\n",
    "arr_new = arr[ 1:,np.newaxis]\n",
    "print(arr_new)\n",
    "print(arr_new.shape)"
   ]
  },
  {
   "cell_type": "markdown",
   "metadata": {},
   "source": [
    "#### <strong> 배열 연결하기</strong>"
   ]
  },
  {
   "cell_type": "code",
   "execution_count": 230,
   "metadata": {},
   "outputs": [
    {
     "name": "stdout",
     "output_type": "stream",
     "text": [
      "[1 2 3] [4 5 6] [7 8 9]\n"
     ]
    }
   ],
   "source": [
    "# 세 개의 배열 생성\n",
    "arr_1 = np.arange(1, 4)\n",
    "arr_2 = np.arange(4, 7)\n",
    "arr_3 = np.arange(7, 10)\n",
    "\n",
    "print(arr_1, arr_2, arr_3)"
   ]
  },
  {
   "cell_type": "code",
   "execution_count": 236,
   "metadata": {},
   "outputs": [
    {
     "data": {
      "text/plain": [
       "array([1, 2, 3, 4, 5, 6, 7, 8, 9])"
      ]
     },
     "execution_count": 236,
     "metadata": {},
     "output_type": "execute_result"
    }
   ],
   "source": [
    "# [+] 배열 연결: np.concatenate()\n",
    "np.concatenate([arr_1,arr_2,arr_3]) # -> 내가 원하는 순서로 나열하면 됨. 가로방향으로 쭉 붙여짐."
   ]
  },
  {
   "cell_type": "code",
   "execution_count": 242,
   "metadata": {},
   "outputs": [
    {
     "data": {
      "text/plain": [
       "array([[1, 2, 3],\n",
       "       [4, 5, 6],\n",
       "       [7, 8, 9]])"
      ]
     },
     "execution_count": 242,
     "metadata": {},
     "output_type": "execute_result"
    }
   ],
   "source": [
    "# [+] 배열 연결: 종연결 -> 세로방향으로 붙여짐. 다차원 배열로 연결됨.\n",
    "arr_total = np.vstack([arr_1,arr_2,arr_3])\n",
    "\n",
    "arr_total"
   ]
  },
  {
   "cell_type": "code",
   "execution_count": 244,
   "metadata": {},
   "outputs": [
    {
     "data": {
      "text/plain": [
       "array([1, 2, 3, 4, 5, 6, 7, 8, 9])"
      ]
     },
     "execution_count": 244,
     "metadata": {},
     "output_type": "execute_result"
    }
   ],
   "source": [
    "# [+] 배열 연결: 횡연결 -> concatenate()랑 동일...?\n",
    "arr_total = np.hstack([arr_1,arr_2,arr_3])\n",
    "\n",
    "arr_total"
   ]
  },
  {
   "cell_type": "code",
   "execution_count": 246,
   "metadata": {},
   "outputs": [
    {
     "name": "stdout",
     "output_type": "stream",
     "text": [
      "[1, 2, 3, 99, 99, 3, 2, 1]\n",
      "[1 2 3] [99 99] [3 2 1]\n"
     ]
    }
   ],
   "source": [
    "arr = [1, 2, 3, 99, 99, 3, 2, 1]\n",
    "print(arr)\n",
    "\n",
    "# [+] 배열 분할 [1,2,3], [99,99], [3,2,1]\n",
    "arr_1, arr_2, arr_3 = np.split(arr,[3,5])  \n",
    "print(arr_1, arr_2, arr_3)"
   ]
  }
 ],
 "metadata": {
  "kernelspec": {
   "display_name": "Python 3 (ipykernel)",
   "language": "python",
   "name": "python3"
  },
  "language_info": {
   "codemirror_mode": {
    "name": "ipython",
    "version": 3
   },
   "file_extension": ".py",
   "mimetype": "text/x-python",
   "name": "python",
   "nbconvert_exporter": "python",
   "pygments_lexer": "ipython3",
   "version": "3.11.5"
  }
 },
 "nbformat": 4,
 "nbformat_minor": 4
}
