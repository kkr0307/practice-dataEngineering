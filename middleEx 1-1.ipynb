{
 "cells": [
  {
   "cell_type": "code",
   "execution_count": 1,
   "id": "436c5ea2-c85f-46a1-938a-5afc31a179a8",
   "metadata": {},
   "outputs": [],
   "source": [
    "import numpy as np"
   ]
  },
  {
   "cell_type": "markdown",
   "id": "dd8abbb1-592c-4023-97e2-a76a4b451e37",
   "metadata": {},
   "source": [
    "## ## HW 1-1 Receipts for Lovely Loveseats (가구판매점 영수증)"
   ]
  },
  {
   "cell_type": "code",
   "execution_count": 3,
   "id": "f24c6da9-f29c-48af-868b-778df0951e21",
   "metadata": {},
   "outputs": [
    {
     "data": {
      "text/plain": [
       "'Lovely Loveseat. Tufted polyester blend on wood. 32 inches high x 40 inches wide x 30 inches deep. Red or white.'"
      ]
     },
     "execution_count": 3,
     "metadata": {},
     "output_type": "execute_result"
    }
   ],
   "source": [
    "# 1-1-1\n",
    "lovely_loveseat_description = \"Lovely Loveseat. Tufted polyester blend on wood. 32 inches high x 40 inches wide x 30 inches deep. Red or white.\"\n",
    "# Lovely Loveseat. Tufted polyester blend on wood. 32 inches high x 40 inches wide x 30 inches deep. Red or white.\n",
    "lovely_loveseat_description"
   ]
  },
  {
   "cell_type": "code",
   "execution_count": 4,
   "id": "b7101865-068c-4a94-8153-e12aeabd3a53",
   "metadata": {},
   "outputs": [
    {
     "data": {
      "text/plain": [
       "254.0"
      ]
     },
     "execution_count": 4,
     "metadata": {},
     "output_type": "execute_result"
    }
   ],
   "source": [
    "# 1-1-2\n",
    "lovely_loveseat_price = 254.00\n",
    "lovely_loveseat_price"
   ]
  },
  {
   "cell_type": "code",
   "execution_count": 5,
   "id": "b9f4f747-0bbb-4350-8852-37c514da097b",
   "metadata": {},
   "outputs": [
    {
     "data": {
      "text/plain": [
       "'Stylish Settee. Faux leather on birch. 29.50 inches high x 54.75 inches wide x 28 inches deep. Black.'"
      ]
     },
     "execution_count": 5,
     "metadata": {},
     "output_type": "execute_result"
    }
   ],
   "source": [
    "# 1-1-3\n",
    "stylish_settee_description = \"Stylish Settee. Faux leather on birch. 29.50 inches high x 54.75 inches wide x 28 inches deep. Black.\"\n",
    "# Stylish Settee. Faux leather on birch. 29.50 inches high x 54.75 inches wide x 28 inches deep. Black.\n",
    "stylish_settee_description"
   ]
  },
  {
   "cell_type": "code",
   "execution_count": 6,
   "id": "5b09ad44-fb95-4147-9722-10441782a107",
   "metadata": {},
   "outputs": [
    {
     "data": {
      "text/plain": [
       "180.5"
      ]
     },
     "execution_count": 6,
     "metadata": {},
     "output_type": "execute_result"
    }
   ],
   "source": [
    "# 1-1-4\n",
    "stylish_settee_price = 180.50\n",
    "stylish_settee_price"
   ]
  },
  {
   "cell_type": "code",
   "execution_count": 7,
   "id": "8e0059d8-cd84-4a9a-999e-b3946b204da4",
   "metadata": {},
   "outputs": [
    {
     "data": {
      "text/plain": [
       "'Luxurious Lamp. Glass and iron. 36 inches tall. Brown with cream shade'"
      ]
     },
     "execution_count": 7,
     "metadata": {},
     "output_type": "execute_result"
    }
   ],
   "source": [
    "# 1-1-5\n",
    "luxurious_lamp_description = \"Luxurious Lamp. Glass and iron. 36 inches tall. Brown with cream shade\"\n",
    "luxurious_lamp_description"
   ]
  },
  {
   "cell_type": "code",
   "execution_count": 8,
   "id": "5abf62f2-6a78-4960-b3c2-ffbc9c4ff482",
   "metadata": {},
   "outputs": [
    {
     "data": {
      "text/plain": [
       "52.15"
      ]
     },
     "execution_count": 8,
     "metadata": {},
     "output_type": "execute_result"
    }
   ],
   "source": [
    "# 1-1-6\n",
    "luxurious_lamp_price = 52.15\n",
    "luxurious_lamp_price"
   ]
  },
  {
   "cell_type": "code",
   "execution_count": 9,
   "id": "b5fceff3-6763-4c69-9d2d-9d275694f19d",
   "metadata": {},
   "outputs": [],
   "source": [
    "# 1-1-7\n",
    "sales_tax = 0.088"
   ]
  },
  {
   "cell_type": "code",
   "execution_count": 10,
   "id": "05dff591-1ec0-4f25-aeef-e3ce420d96de",
   "metadata": {},
   "outputs": [],
   "source": [
    "# 1-1-8\n",
    "customer_one_total = 0"
   ]
  },
  {
   "cell_type": "code",
   "execution_count": 11,
   "id": "c2be3ac2-de7b-4235-a4e2-c9bd5417fa8d",
   "metadata": {},
   "outputs": [],
   "source": [
    "# 1-1-9\n",
    "customer_one_itemization = \"\""
   ]
  },
  {
   "cell_type": "code",
   "execution_count": 12,
   "id": "2f0dcabf-d588-4953-9902-32a3317e17d3",
   "metadata": {},
   "outputs": [
    {
     "data": {
      "text/plain": [
       "254.0"
      ]
     },
     "execution_count": 12,
     "metadata": {},
     "output_type": "execute_result"
    }
   ],
   "source": [
    "# 1-1-10\n",
    "customer_one_total = 0\n",
    "customer_one_total += lovely_loveseat_price\n",
    "customer_one_total"
   ]
  },
  {
   "cell_type": "code",
   "execution_count": 13,
   "id": "47f99c5d-a6a6-4216-aea7-8f3f4a56cdad",
   "metadata": {},
   "outputs": [
    {
     "data": {
      "text/plain": [
       "'Lovely Loveseat. Tufted polyester blend on wood. 32 inches high x 40 inches wide x 30 inches deep. Red or white.'"
      ]
     },
     "execution_count": 13,
     "metadata": {},
     "output_type": "execute_result"
    }
   ],
   "source": [
    "# 1-1-11\n",
    "customer_one_itemization += lovely_loveseat_description\n",
    "customer_one_itemization"
   ]
  },
  {
   "cell_type": "code",
   "execution_count": 14,
   "id": "55057c1a-b2f2-43e7-943c-e9353c889ae4",
   "metadata": {},
   "outputs": [
    {
     "data": {
      "text/plain": [
       "306.15"
      ]
     },
     "execution_count": 14,
     "metadata": {},
     "output_type": "execute_result"
    }
   ],
   "source": [
    "# 1-1-12\n",
    "customer_one_total += luxurious_lamp_price\n",
    "customer_one_total"
   ]
  },
  {
   "cell_type": "code",
   "execution_count": 15,
   "id": "ba1e4e83-7697-4bea-a74f-a3eba0e373a3",
   "metadata": {},
   "outputs": [
    {
     "data": {
      "text/plain": [
       "'Lovely Loveseat. Tufted polyester blend on wood. 32 inches high x 40 inches wide x 30 inches deep. Red or white.Luxurious Lamp. Glass and iron. 36 inches tall. Brown with cream shade'"
      ]
     },
     "execution_count": 15,
     "metadata": {},
     "output_type": "execute_result"
    }
   ],
   "source": [
    "# 1-1-13\n",
    "customer_one_itemization += luxurious_lamp_description\n",
    "customer_one_itemization"
   ]
  },
  {
   "cell_type": "code",
   "execution_count": 16,
   "id": "d4d3dd60-b114-465d-a8b7-857a4a3e8dff",
   "metadata": {},
   "outputs": [
    {
     "data": {
      "text/plain": [
       "26.941199999999995"
      ]
     },
     "execution_count": 16,
     "metadata": {},
     "output_type": "execute_result"
    }
   ],
   "source": [
    "# 1-1-14\n",
    "customer_one_tax = customer_one_total * sales_tax\n",
    "customer_one_tax"
   ]
  },
  {
   "cell_type": "code",
   "execution_count": 17,
   "id": "cc0e9374-0f5e-490e-a7b6-04f006f892ff",
   "metadata": {},
   "outputs": [
    {
     "data": {
      "text/plain": [
       "333.09119999999996"
      ]
     },
     "execution_count": 17,
     "metadata": {},
     "output_type": "execute_result"
    }
   ],
   "source": [
    "# 1-1-15\n",
    "customer_one_total += customer_one_tax\n",
    "customer_one_total"
   ]
  },
  {
   "cell_type": "code",
   "execution_count": 18,
   "id": "3136c83a-8f30-4c92-a4f6-1ee8fe122067",
   "metadata": {},
   "outputs": [
    {
     "name": "stdout",
     "output_type": "stream",
     "text": [
      "Customer One Items:\n",
      "Lovely Loveseat. Tufted polyester blend on wood. 32 inches high x 40 inches wide x 30 inches deep. Red or white.Luxurious Lamp. Glass and iron. 36 inches tall. Brown with cream shade\n",
      "Customer One Items:\n",
      "333.09119999999996\n"
     ]
    }
   ],
   "source": [
    "# 1-1-16, 1-1-17, 1-1-18, 1-1-19\n",
    "print(\"Customer One Items:\")\n",
    "print(customer_one_itemization)\n",
    "print(\"Customer One Items:\")\n",
    "print(customer_one_total)"
   ]
  }
 ],
 "metadata": {
  "kernelspec": {
   "display_name": "Python 3 (ipykernel)",
   "language": "python",
   "name": "python3"
  },
  "language_info": {
   "codemirror_mode": {
    "name": "ipython",
    "version": 3
   },
   "file_extension": ".py",
   "mimetype": "text/x-python",
   "name": "python",
   "nbconvert_exporter": "python",
   "pygments_lexer": "ipython3",
   "version": "3.11.5"
  }
 },
 "nbformat": 4,
 "nbformat_minor": 5
}
