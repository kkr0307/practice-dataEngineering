{
 "cells": [
  {
   "cell_type": "markdown",
   "id": "4d22691a-9ffe-4adb-ac01-49aea93827d4",
   "metadata": {},
   "source": [
    "## HW 1-3 Carly's Clippers"
   ]
  },
  {
   "cell_type": "code",
   "execution_count": 2,
   "id": "16458555-e197-4d59-aae9-06c90789f09a",
   "metadata": {},
   "outputs": [],
   "source": [
    "hairstyles = [\"bouffant\", \"pixie\", \"dreadlocks\", \"crew\", \"bowl\", \"bob\", \"mohawk\", \"flattop\"]\n",
    "prices = [30, 25, 40, 20, 20, 35, 50, 35]\n",
    "last_week = [2, 3, 5, 8, 4, 4, 6, 2]"
   ]
  },
  {
   "cell_type": "markdown",
   "id": "b3bd2c54-c3c0-419e-88f6-503408285d46",
   "metadata": {},
   "source": [
    "### Prices and Cuts:"
   ]
  },
  {
   "cell_type": "code",
   "execution_count": 4,
   "id": "9586d4ff-604f-4452-876b-6184dd8ab2d0",
   "metadata": {},
   "outputs": [],
   "source": [
    "# 1-3-1\n",
    "total_price = 0"
   ]
  },
  {
   "cell_type": "code",
   "execution_count": 5,
   "id": "bbf700c0-daa3-4b85-967f-8eacbc2600a4",
   "metadata": {},
   "outputs": [
    {
     "data": {
      "text/plain": [
       "255"
      ]
     },
     "execution_count": 5,
     "metadata": {},
     "output_type": "execute_result"
    }
   ],
   "source": [
    "# 1-3-2\n",
    "for i in range(len(prices)):\n",
    "    total_price += prices[i]\n",
    "total_price"
   ]
  },
  {
   "cell_type": "code",
   "execution_count": 6,
   "id": "29a671ef-bcd8-4dff-bc84-cc24fd22525f",
   "metadata": {},
   "outputs": [],
   "source": [
    "# 1-3-3\n",
    "average_price = total_price / len(prices)"
   ]
  },
  {
   "cell_type": "code",
   "execution_count": 7,
   "id": "ab39dd8c-2d69-4565-9d9e-747724807a8d",
   "metadata": {},
   "outputs": [
    {
     "name": "stdout",
     "output_type": "stream",
     "text": [
      "31.875\n"
     ]
    }
   ],
   "source": [
    "# 1-3-4\n",
    "print(average_price)"
   ]
  },
  {
   "cell_type": "code",
   "execution_count": 8,
   "id": "64aa1043-be38-47de-ba0f-a6763def7124",
   "metadata": {},
   "outputs": [],
   "source": [
    "# 1-3-5\n",
    "new_prices= [prices[i]-5 for i in range(len(prices))]"
   ]
  },
  {
   "cell_type": "code",
   "execution_count": 9,
   "id": "ba6a8c71-d40c-4107-be65-3394b385737d",
   "metadata": {},
   "outputs": [
    {
     "name": "stdout",
     "output_type": "stream",
     "text": [
      "[25, 20, 35, 15, 15, 30, 45, 30]\n"
     ]
    }
   ],
   "source": [
    "# 1-3-6\n",
    "print(new_prices)"
   ]
  },
  {
   "cell_type": "markdown",
   "id": "742d9b4f-ece8-41b2-ae80-9cc544a01ce5",
   "metadata": {},
   "source": [
    "### Revenue:"
   ]
  },
  {
   "cell_type": "code",
   "execution_count": 11,
   "id": "9ce91804-1d4b-4704-a7c8-d53e42f4ebed",
   "metadata": {},
   "outputs": [],
   "source": [
    "# 1-3-7\n",
    "total_revenue = 0"
   ]
  },
  {
   "cell_type": "code",
   "execution_count": 12,
   "id": "6f2b4175-9579-44a5-a3bd-f06b494133cc",
   "metadata": {},
   "outputs": [],
   "source": [
    "# 1-3-8, 1-3-9\n",
    "for i in range(0,len(hairstyles)):\n",
    "    total_revenue += prices[i] * last_week[i]"
   ]
  },
  {
   "cell_type": "code",
   "execution_count": 13,
   "id": "27bce80b-198f-49dd-b87b-185410498a52",
   "metadata": {},
   "outputs": [
    {
     "name": "stdout",
     "output_type": "stream",
     "text": [
      "1085\n"
     ]
    }
   ],
   "source": [
    "# 1-3-10\n",
    "print(total_revenue)"
   ]
  },
  {
   "cell_type": "code",
   "execution_count": 14,
   "id": "c2f1dd1c-ac70-4bd2-94c6-f8e8474830a8",
   "metadata": {},
   "outputs": [
    {
     "name": "stdout",
     "output_type": "stream",
     "text": [
      "Average daily revenue is 155.0\n"
     ]
    }
   ],
   "source": [
    "# 1-3-11\n",
    "average_daily_revenue = total_revenue / 7\n",
    "print(\"Average daily revenue is\",average_daily_revenue)"
   ]
  },
  {
   "cell_type": "code",
   "execution_count": 15,
   "id": "ea1bb392-90cd-4114-a635-4536b1daad33",
   "metadata": {},
   "outputs": [],
   "source": [
    "# 1-3-12\n",
    "cuts_under_30 = [hairstyles[i] for i in range(len(new_prices)-1) if new_prices[i] < 30]"
   ]
  },
  {
   "cell_type": "code",
   "execution_count": 16,
   "id": "6bd07ddb-a50f-46a0-b67f-4f2a1efb255a",
   "metadata": {},
   "outputs": [
    {
     "name": "stdout",
     "output_type": "stream",
     "text": [
      "['bouffant', 'pixie', 'crew', 'bowl']\n"
     ]
    }
   ],
   "source": [
    "# 1-3-13\n",
    "print(cuts_under_30)"
   ]
  }
 ],
 "metadata": {
  "kernelspec": {
   "display_name": "Python 3 (ipykernel)",
   "language": "python",
   "name": "python3"
  },
  "language_info": {
   "codemirror_mode": {
    "name": "ipython",
    "version": 3
   },
   "file_extension": ".py",
   "mimetype": "text/x-python",
   "name": "python",
   "nbconvert_exporter": "python",
   "pygments_lexer": "ipython3",
   "version": "3.11.5"
  }
 },
 "nbformat": 4,
 "nbformat_minor": 5
}
