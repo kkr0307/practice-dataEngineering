{
 "cells": [
  {
   "cell_type": "markdown",
   "id": "6b81e1a9-70db-4112-b33d-ecfcc42cf5b2",
   "metadata": {},
   "source": [
    "## HW 1-4 Find my chosun name"
   ]
  },
  {
   "cell_type": "code",
   "execution_count": 2,
   "id": "d6068b9e-6986-4fb3-a58e-6e8205aac7a4",
   "metadata": {},
   "outputs": [],
   "source": [
    "def get_my_chosun_name(family_name, month, day):\n",
    "    month_name = ['쌍', '쇠', '복', '돌', '팽', '육', '쌍', '개', '칠', '갑', '삼', '방']\n",
    "    day_name = ['봉', '구', '욕', '포', '똥', '삼', '식', '석', '놈', '님', '년', '돌', '단', '득', '방', '질', '장', '걸', '래', '룡', '동', '순', '자', '박', '창', '언', '것', '포', '만', '단', '국']\n",
    "    chosun_name = family_name + month_name[month-1] + day_name[day-1]\n",
    "    return chosun_name"
   ]
  },
  {
   "cell_type": "code",
   "execution_count": 3,
   "id": "d8c89fc9-be3a-4848-9d5a-485614331935",
   "metadata": {},
   "outputs": [
    {
     "name": "stdout",
     "output_type": "stream",
     "text": [
      "강복식\n"
     ]
    }
   ],
   "source": [
    "print(get_my_chosun_name('강',3,7))"
   ]
  },
  {
   "cell_type": "code",
   "execution_count": null,
   "id": "4429bd8c-c075-4816-88e2-5357d49fc8f1",
   "metadata": {},
   "outputs": [],
   "source": []
  }
 ],
 "metadata": {
  "kernelspec": {
   "display_name": "Python 3 (ipykernel)",
   "language": "python",
   "name": "python3"
  },
  "language_info": {
   "codemirror_mode": {
    "name": "ipython",
    "version": 3
   },
   "file_extension": ".py",
   "mimetype": "text/x-python",
   "name": "python",
   "nbconvert_exporter": "python",
   "pygments_lexer": "ipython3",
   "version": "3.11.5"
  }
 },
 "nbformat": 4,
 "nbformat_minor": 5
}
